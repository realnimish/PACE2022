{
 "cells": [
  {
   "cell_type": "code",
   "execution_count": 1,
   "metadata": {},
   "outputs": [],
   "source": [
    "import networkx as nx\n",
    "import copy"
   ]
  },
  {
   "cell_type": "code",
   "execution_count": 2,
   "metadata": {},
   "outputs": [],
   "source": [
    "G = nx.DiGraph()\n",
    "\n",
    "G.add_edges_from(\n",
    "    [\n",
    "        (1, 2),\n",
    "        (1, 4),\n",
    "        (2, 3),\n",
    "        (2, 5),\n",
    "        (3, 8),\n",
    "        (4, 5),\n",
    "        (5, 1),\n",
    "        (5, 3),\n",
    "        (6, 5),\n",
    "        (7, 5),\n",
    "        (7, 8),\n",
    "        (8, 6)\n",
    "    ]\n",
    ")"
   ]
  },
  {
   "cell_type": "code",
   "execution_count": 3,
   "metadata": {},
   "outputs": [
    {
     "name": "stdout",
     "output_type": "stream",
     "text": [
      "[(5, 1), (5, 3)]\n",
      "[1, 3]\n"
     ]
    }
   ],
   "source": [
    "l = G.out_edges(5)\n",
    "ln = [i[1] for i in l]\n",
    "\n",
    "print(l)\n",
    "print(ln)"
   ]
  },
  {
   "cell_type": "code",
   "execution_count": 4,
   "metadata": {},
   "outputs": [],
   "source": [
    "def contractGraphNode(G, v):\n",
    "    \n",
    "    # Gn = copy.deepcopy(G)\n",
    "    Gn = nx.DiGraph(G)\n",
    "    \n",
    "    e = Gn.in_edges(v)\n",
    "    en = [i[0] for i in e]\n",
    "    \n",
    "    l = Gn.out_edges(v)\n",
    "    ln = [i[1] for i in l]\n",
    "    \n",
    "    for j in en:\n",
    "        for k in ln:\n",
    "            # Delete the loop vertex.\n",
    "            if j == k:\n",
    "                Gn.remove_node(j)\n",
    "            else:\n",
    "                Gn.add_edge(j, k)\n",
    "    \n",
    "    Gn.remove_node(v)\n",
    "    \n",
    "    return Gn"
   ]
  },
  {
   "cell_type": "code",
   "execution_count": 5,
   "metadata": {},
   "outputs": [
    {
     "name": "stdout",
     "output_type": "stream",
     "text": [
      "<class 'int'>\n"
     ]
    }
   ],
   "source": [
    "print(type(3))"
   ]
  },
  {
   "cell_type": "code",
   "execution_count": 6,
   "metadata": {},
   "outputs": [],
   "source": [
    "def contractGraph(G, D):\n",
    "    \n",
    "    # Gn = copy.deepcopy(G)\n",
    "    Gn = nx.DiGraph(G)\n",
    "    \n",
    "    if type(D) == type(3):\n",
    "        return contractGraphNode(G, D)\n",
    "    \n",
    "    elif len(D) == 0:\n",
    "        return Gn\n",
    "    \n",
    "    else:\n",
    "        t = D.pop()\n",
    "        return contractGraph(contractGraphNode(Gn, t), D)\n"
   ]
  },
  {
   "cell_type": "code",
   "execution_count": 7,
   "metadata": {},
   "outputs": [
    {
     "name": "stdout",
     "output_type": "stream",
     "text": [
      "[(1, 2), (1, 4), (2, 3), (2, 5), (4, 5), (3, 8), (5, 1), (5, 3), (8, 6), (6, 5), (7, 5), (7, 8)]\n"
     ]
    }
   ],
   "source": [
    "print(G.edges)"
   ]
  },
  {
   "cell_type": "code",
   "execution_count": 8,
   "metadata": {},
   "outputs": [
    {
     "name": "stdout",
     "output_type": "stream",
     "text": [
      "[(1, 2), (1, 4), (2, 3), (2, 1), (4, 1), (4, 3), (3, 8), (8, 6), (6, 1), (6, 3), (7, 8), (7, 1), (7, 3)]\n"
     ]
    }
   ],
   "source": [
    "print(contractGraphNode(G, 5).edges)"
   ]
  },
  {
   "cell_type": "code",
   "execution_count": 9,
   "metadata": {},
   "outputs": [
    {
     "name": "stdout",
     "output_type": "stream",
     "text": [
      "[(1, 2), (1, 4), (2, 3), (2, 1), (4, 1), (4, 3), (3, 8), (8, 6), (6, 1), (6, 3), (7, 8), (7, 1), (7, 3)]\n"
     ]
    }
   ],
   "source": [
    "print(contractGraph(G, (5)).edges)"
   ]
  },
  {
   "cell_type": "code",
   "execution_count": 10,
   "metadata": {},
   "outputs": [
    {
     "name": "stdout",
     "output_type": "stream",
     "text": [
      "[(1, 2), (1, 4), (2, 3), (2, 1), (4, 1), (4, 3), (3, 8), (8, 1), (8, 3), (7, 8), (7, 1), (7, 3)]\n"
     ]
    }
   ],
   "source": [
    "print(contractGraph(G, set([5, 6])).edges)"
   ]
  },
  {
   "cell_type": "code",
   "execution_count": 11,
   "metadata": {},
   "outputs": [],
   "source": [
    "R = {}\n",
    "\n",
    "for v in G.nodes():\n",
    "    R[v] = \"UM\"\n",
    "    \n",
    "# R[2] = \"LM\"\n",
    "# R[3] = \"LMD\"\n",
    "# R[5] = \"RM\"\n",
    "# R[7] = \"RMD\""
   ]
  },
  {
   "cell_type": "code",
   "execution_count": 12,
   "metadata": {},
   "outputs": [],
   "source": [
    "def V_L(G, R):\n",
    "    t = set()\n",
    "    \n",
    "    for v in G.nodes():\n",
    "        if R[v] == \"LM\" or R[v] == \"LMD\":\n",
    "            t.add(v)\n",
    "    \n",
    "    return t\n",
    "\n",
    "def V_R(G, R):\n",
    "    t = set()\n",
    "    \n",
    "    for v in G.nodes():\n",
    "        if R[v] == \"RM\" or R[v] == \"RMD\":\n",
    "            t.add(v)\n",
    "    \n",
    "    return t"
   ]
  },
  {
   "cell_type": "code",
   "execution_count": 13,
   "metadata": {},
   "outputs": [
    {
     "name": "stdout",
     "output_type": "stream",
     "text": [
      "set()\n"
     ]
    }
   ],
   "source": [
    "print(V_L(G, R))"
   ]
  },
  {
   "cell_type": "code",
   "execution_count": 14,
   "metadata": {},
   "outputs": [],
   "source": [
    "def convertArb(R, F, N):\n",
    "    for j in range(N):\n",
    "        if F == \"VR\":\n",
    "            for key in R:\n",
    "                if R[key] == \"RM\" or R[key] == \"RMD\":\n",
    "                    R[key] = \"WRM\"\n",
    "                    break\n",
    "        \n",
    "        elif F == \"VL\":\n",
    "            for key in R:\n",
    "                if R[key] == \"LM\" or R[key] == \"LMD\":\n",
    "                    R[key] = \"WLM\"\n",
    "                    break"
   ]
  },
  {
   "cell_type": "code",
   "execution_count": 15,
   "metadata": {},
   "outputs": [],
   "source": [
    "# convertArb(R, \"VR\", 1)\n",
    "# print(R)"
   ]
  },
  {
   "cell_type": "code",
   "execution_count": 16,
   "metadata": {},
   "outputs": [],
   "source": [
    "def balance(G, R):\n",
    "    \n",
    "    lenL = len(V_L(G, R))\n",
    "    lenR = len(V_R(G, R))\n",
    "    \n",
    "    if lenR - lenL > 3:\n",
    "        convertArb(R, \"VR\", lenR - lenL - 3)\n",
    "    elif lenL - lenR > 3:\n",
    "        convertArb(R, \"VL\", lenL - lenR - 3)"
   ]
  },
  {
   "cell_type": "code",
   "execution_count": 17,
   "metadata": {},
   "outputs": [],
   "source": [
    "def checkcycle2(G):\n",
    "    # Return any vertex of the first cycle of length 2.\n",
    "    for v in list(G.nodes):\n",
    "        l = G.out_edges(v)\n",
    "        ln = [i[1] for i in l]\n",
    "        \n",
    "        for u in ln:\n",
    "            l1 = G.out_edges(u)\n",
    "            l1n = [i[1] for i in l1]\n",
    "            \n",
    "            if v in l1n:\n",
    "                # Can return v or u here.\n",
    "                return v\n",
    "            \n",
    "    return -1"
   ]
  },
  {
   "cell_type": "code",
   "execution_count": 18,
   "metadata": {},
   "outputs": [],
   "source": [
    "def powerset(s):\n",
    "    x = len(s)\n",
    "    masks = [1 << i for i in range(x)]\n",
    "    for i in range(1 << x):\n",
    "        yield set([ss for mask, ss in zip(masks, s) if i & mask])"
   ]
  },
  {
   "cell_type": "code",
   "execution_count": 19,
   "metadata": {},
   "outputs": [
    {
     "name": "stdout",
     "output_type": "stream",
     "text": [
      "[set(), {4}, {5}, {4, 5}, {6}, {4, 6}, {5, 6}, {4, 5, 6}, {7}, {4, 7}, {5, 7}, {4, 5, 7}, {6, 7}, {4, 6, 7}, {5, 6, 7}, {4, 5, 6, 7}]\n",
      "[set(), {4}, {5}, {6}, {4, 6}, {5, 6}, {4, 5, 6}, {7}, {4, 7}, {5, 7}, {4, 5, 7}, {6, 7}, {4, 6, 7}, {5, 6, 7}, {4, 5, 6, 7}]\n"
     ]
    }
   ],
   "source": [
    "ww = list(powerset([4, 5, 6, 7]))\n",
    "print(ww)\n",
    "ww.remove(set([4,5]))\n",
    "print(ww)"
   ]
  },
  {
   "cell_type": "code",
   "execution_count": 20,
   "metadata": {},
   "outputs": [
    {
     "name": "stdout",
     "output_type": "stream",
     "text": [
      "[set(), {4}, {5}, {4, 5}, {6}, {4, 6}, {5, 6}, {4, 5, 6}]\n"
     ]
    }
   ],
   "source": [
    "wg = list(powerset([4, 5, 6]))\n",
    "print(wg)"
   ]
  },
  {
   "cell_type": "code",
   "execution_count": 21,
   "metadata": {},
   "outputs": [],
   "source": [
    "# G.remove_node(5)"
   ]
  },
  {
   "cell_type": "code",
   "execution_count": 22,
   "metadata": {},
   "outputs": [
    {
     "name": "stdout",
     "output_type": "stream",
     "text": [
      "found one\n"
     ]
    }
   ],
   "source": [
    "try:\n",
    "    nx.find_cycle(G)\n",
    "    print(\"found one\")\n",
    "except:\n",
    "    print(\"not found\")\n",
    "\n",
    "# print(list(nx.find_cycle(G)))"
   ]
  },
  {
   "cell_type": "code",
   "execution_count": 23,
   "metadata": {},
   "outputs": [],
   "source": [
    "def getAcyclicSubsets(G, s):\n",
    "    # Returns a list of sets, containing all the acyclic subsets of the set s.\n",
    "    \n",
    "    allsets = list(powerset(s))\n",
    "    \n",
    "    for sub in allsets:\n",
    "        if len(sub) == 0 or len(sub) == 1:\n",
    "            continue\n",
    "        \n",
    "        G1 = G.subgraph(list(sub))\n",
    "        \n",
    "        try:\n",
    "            nx.find_cycle(G1)\n",
    "            allsets.remove(sub)\n",
    "        except:\n",
    "            pass\n",
    "        \n",
    "    return allsets"
   ]
  },
  {
   "cell_type": "code",
   "execution_count": 24,
   "metadata": {},
   "outputs": [
    {
     "name": "stdout",
     "output_type": "stream",
     "text": [
      "2\n",
      "[{1, 2, 3, 4, 5, 6, 8}, {7}]\n",
      "<class 'set'>\n",
      "[{1, 2, 3, 4, 5, 6, 8}, {7}]\n"
     ]
    }
   ],
   "source": [
    "print(nx.number_strongly_connected_components(G))\n",
    "print(list(nx.strongly_connected_components(G)))\n",
    "print(type(list(nx.strongly_connected_components(G))[0]))\n",
    "print(list(nx.strongly_connected_components_recursive(G)))"
   ]
  },
  {
   "cell_type": "code",
   "execution_count": 25,
   "metadata": {},
   "outputs": [
    {
     "name": "stdout",
     "output_type": "stream",
     "text": [
      "{1, 2, 3, 4, 5, 6, 7, 8}\n"
     ]
    }
   ],
   "source": [
    "print(set(G.nodes))"
   ]
  },
  {
   "cell_type": "code",
   "execution_count": 26,
   "metadata": {},
   "outputs": [],
   "source": [
    "def GetMAS(G, R):\n",
    "    # Returns set of vertices which form the MAS, ie. complement of FVS.\n",
    "       \n",
    "    # Balancing.\n",
    "    balance(G, R)\n",
    "    \n",
    "    \n",
    "    # C1\n",
    "    # Return the MAS directly and return it.\n",
    "    l = list(G.nodes)\n",
    "    \n",
    "    if len(l) == 1 or len(l) == 0:\n",
    "        return set(G.nodes)\n",
    "    \n",
    "    elif len(l) == 2:\n",
    "        try:\n",
    "            nx.find_cycle(G)\n",
    "            return set(list(G.nodes)[0])\n",
    "        except:\n",
    "            return set(G.nodes)\n",
    "    \n",
    "    if len(l) == 3:\n",
    "        try:\n",
    "            nx.find_cycle(G)\n",
    "            \n",
    "            ps = list(powerset(l))\n",
    "            for s in ps:\n",
    "                if len(s) == 2:\n",
    "                    Gm = G.subgraph(list(s))\n",
    "                    try:\n",
    "                        nx.find_cycle(Gm)\n",
    "                    except:\n",
    "                        return s\n",
    "                                    \n",
    "            for s in ps:\n",
    "                if len(s) == 1:\n",
    "                    return s\n",
    "        except:\n",
    "            return set(G.nodes)\n",
    "\n",
    "        \n",
    "    # C2\n",
    "    t = checkcycle2(G)\n",
    "    if t != -1:\n",
    "        if R[t] == \"UM\":\n",
    "            R1 = copy.deepcopy(R)\n",
    "        elif R[t] == \"LM\" or R[t] == \"LMD\" or R[t] == \"WLM\":\n",
    "            R1 = copy.deepcopy(R)\n",
    "            e = G.in_edges(t)\n",
    "            en = [i[0] for i in e]\n",
    "            for k in R1:\n",
    "                if k in en and R1[k] == \"UM\":\n",
    "                    R1[k] = \"WLM\"\n",
    "        elif R[t] == \"RM\" or R[t] == \"RMD\" or R[t] == \"WRM\":\n",
    "            R1 = copy.deepcopy(R)\n",
    "            l = G.out_edges(t)\n",
    "            ln = [i[1] for i in l]\n",
    "            for k in R1:\n",
    "                if k in ln and R1[k] == \"UM\":\n",
    "                    R1[k] = \"WRM\"\n",
    "\n",
    "        S1 = GetMAS(G, R)\n",
    "        S2 = GetMAS(contractGraph(G, t), R1) | set([t])\n",
    "        \n",
    "        if len(S1) > len(S2):\n",
    "            return S1\n",
    "        else:\n",
    "            return S2\n",
    "        \n",
    "    # C3\n",
    "    # If the graph has at least 2 scc.\n",
    "    # Get 2 vertices, v1 and v2 from 2 SCC G1 and G2, that are preferably LMD or RMD.\n",
    "    \n",
    "    allscc = list(nx.strongly_connected_components(G))\n",
    "    \n",
    "    if len(allscc) >= 2:\n",
    "        # G1 and G2 are the SCC components.\n",
    "        G1 = G.subgraph(list(allscc[0]))\n",
    "        G2 = G.subgraph(list(allscc[1]))\n",
    "        \n",
    "        v1 = list(G1.nodes)[0]\n",
    "        v2 = list(G2.nodes)[0]\n",
    "        \n",
    "        for i in list(G1.nodes):\n",
    "            if R[i] == \"LMD\" or R[i] == \"RMD\":\n",
    "                v1 = i\n",
    "                break\n",
    "        \n",
    "        for i in list(G2.nodes):\n",
    "            if R[i] == \"LMD\" or R[i] == \"RMD\":\n",
    "                v2 = i\n",
    "                break\n",
    "        \n",
    "        t1 = set([v1,v2]) | GetMAS(contractGraph(G, set([v1,v2])), R)\n",
    "        # Gn.remove_node(v1)\n",
    "        # Gn.remove_node(v2)\n",
    "        rl = list(G.nodes)\n",
    "        rl.remove(v1)\n",
    "        rl.remove(v2)\n",
    "        t2 = GetMAS(G.subgraph(rl), R)\n",
    "        \n",
    "        x1 = t1 & set(G1.nodes)\n",
    "        x2 = t2 & set(G1.nodes)\n",
    "        if len(x1) > len(x2):\n",
    "            xm = copy.deepcopy(x1)\n",
    "        else:\n",
    "            xm = copy.deepcopy(x2)\n",
    "            \n",
    "        y1 = t1 & set(G2.nodes)\n",
    "        y2 = t2 & set(G2.nodes)\n",
    "        \n",
    "        if len(y1) > len(y2):\n",
    "            ym = copy.deepcopy(y1)\n",
    "        else:\n",
    "            ym = copy.deepcopy(y2)\n",
    "        \n",
    "        z1 = set(G1.nodes) | set(G2.nodes)\n",
    "        z = t1 - z1\n",
    "        \n",
    "        b = xm | ym | z\n",
    "        \n",
    "        return b\n",
    "    \n",
    "    # C4 !!\n",
    "    if len(V_L(G,R)) == 0 or len(V_R(G,R)) == 0:\n",
    "        \n",
    "        # C41\n",
    "        for v in list(G.nodes):\n",
    "            if R[v] == \"UM\" or R[v] == \"WLM\" or R[v] == \"WRM\":\n",
    "                e = G.in_edges(v)\n",
    "                en = [i[0] for i in e]\n",
    "                l = G.out_edges(v)\n",
    "                ln = [i[1] for i in l]\n",
    "                rn = list(G.nodes)\n",
    "                \n",
    "                if len(en) == 0:\n",
    "                    return set([v]) | GetMAS(contractGraph(G, v), R)\n",
    "                \n",
    "                elif len(en) == 1:\n",
    "                    rl = list(G.nodes)\n",
    "                    rl.remove(v)\n",
    "                    return max(set([v]) | GetMAS(contractGraph(G, v), R), set([en[0]]) | GetMAS(contractGraph(G.subgraph(rl), en[0]), R), key=len)\n",
    "                \n",
    "                elif len(en) == 2:\n",
    "                    rl = list(G.nodes)\n",
    "                    r1 = rl.remove(v)\n",
    "                    r2 = rl.remove(en[0])\n",
    "                    return max(set([v]) | GetMAS(contractGraph(G, v), R), set([en[0]]) | GetMAS(contractGraph(G.subgraph(r1), en[0]), R), set([en[1]]) | GetMAS(contractGraph(G.subgraph(r2), en[1]), R), key=len)\n",
    "                \n",
    "                elif len(en) == 3:\n",
    "                    rl = list(G.nodes)\n",
    "                    r1 = rl.remove(v)\n",
    "                    r2 = rl.remove(en[0])\n",
    "                    r3 = rl.remove(en[1])\n",
    "                    return max(set([v]) | GetMAS(contractGraph(G, v), R), set([en[0]]) | GetMAS(contractGraph(G.subgraph(r1), en[0]), R), set([en[1]]) | GetMAS(contractGraph(G.subgraph(r2), en[1]), R), set([en[2]]) | GetMAS(contractGraph(G.subgraph(r3), en[2]), R), key=len)\n",
    "                \n",
    "                elif len(ln) == 0:\n",
    "                    return set([v]) | GetMAS(contractGraph(G, v), R)\n",
    "                \n",
    "                elif len(ln) == 1:\n",
    "                    rl = list(G.nodes)\n",
    "                    rl.remove(v)\n",
    "                    return max(set([v]) | GetMAS(contractGraph(G, v), R), set([ln[0]]) | GetMAS(contractGraph(G.subgraph(rl), ln[0]), R), key=len)\n",
    "                \n",
    "                elif len(ln) == 2:\n",
    "                    rl = list(G.nodes)\n",
    "                    r1 = rl.remove(v)\n",
    "                    r2 = rl.remove(ln[0])\n",
    "                    return max(set([v]) | GetMAS(contractGraph(G, v), R), set([ln[0]]) | GetMAS(contractGraph(G.subgraph(r1), ln[0]), R), set([ln[1]]) | GetMAS(contractGraph(G.subgraph(r2), ln[1]), R), key=len)\n",
    "                \n",
    "                elif len(ln) == 3:\n",
    "                    rl = list(G.nodes)\n",
    "                    r1 = rl.remove(v)\n",
    "                    r2 = rl.remove(ln[0])\n",
    "                    r3 = rl.remove(ln[1])\n",
    "                    return max(set([v]) | GetMAS(contractGraph(G, v), R), set([ln[0]]) | GetMAS(contractGraph(G.subgraph(r1), ln[0]), R), set([ln[1]]) | GetMAS(contractGraph(G.subgraph(r2), ln[1]), R), set([ln[2]]) | GetMAS(contractGraph(G.subgraph(r3), ln[2]), R), key=len)\n",
    "\n",
    "        # C42\n",
    "        for v in list(G.nodes):\n",
    "            if R[v] == \"UM\" or R[v] == \"WLM\" or R[v] == \"WRM\":\n",
    "                R1 = copy.deepcopy(R)\n",
    "                \n",
    "                e = G.in_edges(v)\n",
    "                en = [i[0] for i in e]\n",
    "                l = G.out_edges(v)\n",
    "                ln = [i[1] for i in l]\n",
    "                \n",
    "                tok = 4\n",
    "                for i in en:\n",
    "                    if tok != 0:\n",
    "                        R1[i] = \"LM\"\n",
    "                        tok = tok - 1\n",
    "                    else:\n",
    "                        R1[i] = \"WLM\"\n",
    "                tok = 4\n",
    "                for i in ln:\n",
    "                    if tok != 0:\n",
    "                        R1[i] = \"RM\"\n",
    "                        tok = tok - 1\n",
    "                    else:\n",
    "                        R1[i] = \"WRM\"\n",
    "                \n",
    "                rl = list(G.nodes)\n",
    "                rl.remove(v)\n",
    "                \n",
    "                return max(set([v]) | GetMAS(contractGraph(G, v), R1), GetMAS(G.subgraph(rl)), key=len)\n",
    "                \n",
    "        R1 = copy.deepcopy(R)\n",
    "        \n",
    "        e = G.in_edges(v)\n",
    "        en = [i[0] for i in e]\n",
    "        l = G.out_edges(v)\n",
    "        ln = [i[1] for i in l]\n",
    "        \n",
    "        tok = 4\n",
    "        for i in en:\n",
    "            if tok != 0:\n",
    "                R1[i] = \"LM\"\n",
    "                tok = tok - 1\n",
    "            else:\n",
    "                R1[i] = \"WLM\"\n",
    "        tok = 4\n",
    "        for i in ln:\n",
    "            if tok != 0:\n",
    "                R1[i] = \"RM\"\n",
    "                tok = tok - 1\n",
    "            else:\n",
    "                R1[i] = \"WRM\"\n",
    "        \n",
    "        rl = list(G.nodes)\n",
    "        rl.remove(v)\n",
    "        \n",
    "        return max(set([v]) | GetMAS(contractGraph(G, v), R1), GetMAS(G.subgraph(rl)), key=len)\n",
    "\n",
    "    # C5\n",
    "    \n",
    "    lenL = len(V_L(G, R))\n",
    "    lenR = len(V_R(G, R))\n",
    "    \n",
    "    # For the first part.\n",
    "    if(lenL < lenR):\n",
    "        # C51 not needed.\n",
    "        # C52\n",
    "        for v in list(G.nodes):\n",
    "            if R[v] == \"LM\" or R[v] == \"LMD\":\n",
    "                e = G.in_edges(v)\n",
    "                en = [i[0] for i in e]\n",
    "                \n",
    "                uen = [i for i in en if R[i] == \"UM\"]\n",
    "                \n",
    "                if len(uen) >= 4:\n",
    "                    R1 = copy.deepcopy(R)\n",
    "                    tok = 4\n",
    "                    for j in uen:\n",
    "                        if tok != 0:\n",
    "                            R1[j] = \"LM\"\n",
    "                            tok = tok - 1\n",
    "                        else:\n",
    "                            R1[j] = \"WLM\"\n",
    "                    \n",
    "                    rl = list(G.nodes)\n",
    "                    rl.remove(v)\n",
    "                    \n",
    "                    return max(set([v]) | GetMAS(contractGraph(G, v), R1), GetMAS(G.subgraph(rl), R), key=len)\n",
    "                    \n",
    "        # C53\n",
    "        ue = []\n",
    "        v = 0\n",
    "        for vt in list(G.nodes):\n",
    "            e = G.in_edges(vt)\n",
    "            en = [i[0] for i in e]\n",
    "            \n",
    "            uet = [i for i in en if R[i] == \"UM\"]\n",
    "            \n",
    "            if len(uet) > len(ue):\n",
    "                # ue = uet.copy()\n",
    "                ue = uet\n",
    "                v = vt\n",
    "        \n",
    "        # ue is X.\n",
    "        # Ys is a set of all Y.\n",
    "        Ys = getAcyclicSubsets(G, ue)\n",
    "        Ty = []\n",
    "        \n",
    "        for Y in Ys:\n",
    "            Rt = copy.deepcopy(R)\n",
    "            if(len(Y) == 0):\n",
    "                Rt[v] = \"LMD\"\n",
    "            \n",
    "            temp = Y | GetMAS(contractGraph(G.subgraph(list(ue - Y)), Y), Rt)\n",
    "            Ty.append(temp)\n",
    "            \n",
    "        return max(Ty, key=lambda item: len(item))\n",
    "    \n",
    "    # For the second part.\n",
    "    else:\n",
    "        # C51 not needed.\n",
    "        # C52\n",
    "        for v in list(G.nodes):\n",
    "            if R[v] == \"RM\" or R[v] == \"RMD\":\n",
    "                l = G.out_edges(v)\n",
    "                ln = [i[1] for i in l]\n",
    "                \n",
    "                uln = [i for i in ln if R[i] == \"UM\"]\n",
    "                \n",
    "                if len(uln) >= 4:\n",
    "                    R1 = copy.deepcopy(R)\n",
    "                    tok = 4\n",
    "                    for j in uln:\n",
    "                        if tok != 0:\n",
    "                            R1[j] = \"RM\"\n",
    "                            tok = tok - 1\n",
    "                        else:\n",
    "                            R1[j] = \"WRM\"\n",
    "                    \n",
    "                    rl = list(G.nodes)\n",
    "                    rl.remove(v)\n",
    "                    \n",
    "                    return max(set([v]) | GetMAS(contractGraph(G, v), R1), GetMAS(G.subgraph(rl), R), key=len)\n",
    "                    \n",
    "        # C53\n",
    "        ul = []\n",
    "        v = 0\n",
    "        for vt in list(G.nodes):\n",
    "            l = G.out_edges(vt)\n",
    "            ln = [i[1] for i in l]\n",
    "            \n",
    "            ult = [i for i in ln if R[i] == \"UM\"]\n",
    "            \n",
    "            if len(ult) > len(ul):\n",
    "                # ul = ult.copy()\n",
    "                ul = ult\n",
    "                v = vt\n",
    "        \n",
    "        Ys = getAcyclicSubsets(G, v)\n",
    "        Ty = []\n",
    "        \n",
    "        for Y in Ys:\n",
    "            Rt = copy.deepcopy(R)\n",
    "            if(len(Y) == 0):\n",
    "                Rt[v] = \"RMD\"\n",
    "            \n",
    "            temp = Y | GetMAS(contractGraph(G.subgraph(list(ul - Y)), Y), Rt)\n",
    "            Ty.append(temp)\n",
    "            \n",
    "        return max(Ty, key=lambda item: len(item))\n",
    "                \n",
    "   "
   ]
  },
  {
   "cell_type": "code",
   "execution_count": 27,
   "metadata": {},
   "outputs": [
    {
     "name": "stdout",
     "output_type": "stream",
     "text": [
      "<class 'list'>\n",
      "[1, 2, 4, 3, 5, 6, 7]\n",
      "DiGraph with 8 nodes and 12 edges\n",
      "DiGraph with 7 nodes and 9 edges\n"
     ]
    }
   ],
   "source": [
    "ff = list(G.nodes)\n",
    "print(type(ff))\n",
    "ff.remove(8)\n",
    "print(ff)\n",
    "\n",
    "hh = G.subgraph(ff)\n",
    "print(G)\n",
    "print(hh)"
   ]
  },
  {
   "cell_type": "code",
   "execution_count": 28,
   "metadata": {},
   "outputs": [
    {
     "name": "stdout",
     "output_type": "stream",
     "text": [
      "{1: 'UM', 2: 'UM', 4: 'UM', 3: 'UM', 5: 'UM', 8: 'UM', 6: 'UM', 7: 'UM'}\n",
      "[2, 4, 6, 7]\n",
      "[2, 4, 6, 7]\n"
     ]
    }
   ],
   "source": [
    "print(R)\n",
    "e = G.in_edges(5)\n",
    "en = [i[0] for i in e]\n",
    "print(en)\n",
    "uen = [i for i in en if R[i] == \"UM\"]\n",
    "print(uen)"
   ]
  },
  {
   "cell_type": "code",
   "execution_count": 29,
   "metadata": {},
   "outputs": [
    {
     "name": "stdout",
     "output_type": "stream",
     "text": [
      "UM\n",
      "UM\n",
      "UM\n",
      "UM\n"
     ]
    }
   ],
   "source": [
    "for i in en:\n",
    "    print(R[i])"
   ]
  },
  {
   "cell_type": "code",
   "execution_count": 30,
   "metadata": {},
   "outputs": [
    {
     "name": "stdout",
     "output_type": "stream",
     "text": [
      "{8}\n"
     ]
    }
   ],
   "source": [
    "print(set([8]))"
   ]
  },
  {
   "cell_type": "code",
   "execution_count": 31,
   "metadata": {},
   "outputs": [
    {
     "name": "stdout",
     "output_type": "stream",
     "text": [
      "{2, 3, 6, 7, 75, 15, 87}\n"
     ]
    }
   ],
   "source": [
    "tt = [set([1,2]), set([11,22, 3]), set([133, 44 , 4 , 2]), set([14]), set([15, 6, 7, 3, 87, 75, 2]), set([]), set([13, 4])]\n",
    "\n",
    "print(max(tt, key=lambda item: len(item)))"
   ]
  },
  {
   "cell_type": "code",
   "execution_count": null,
   "metadata": {},
   "outputs": [],
   "source": []
  },
  {
   "cell_type": "code",
   "execution_count": 34,
   "metadata": {},
   "outputs": [],
   "source": [
    "g = nx.DiGraph()\n",
    "\n",
    "g.add_edges_from(\n",
    "    [\n",
    "        (1, 2),\n",
    "        (2, 3),\n",
    "        (3, 4),\n",
    "        (3, 1),\n",
    "        (4, 1),\n",
    "        (2, 5)\n",
    "    ]\n",
    ")\n",
    "\n",
    "r = {}\n",
    "\n",
    "for v in G.nodes():\n",
    "    r[v] = \"UM\""
   ]
  },
  {
   "cell_type": "code",
   "execution_count": 35,
   "metadata": {},
   "outputs": [
    {
     "name": "stdout",
     "output_type": "stream",
     "text": [
      "{2, 3, 4, 5}\n"
     ]
    }
   ],
   "source": [
    "print(GetMAS(g, r))"
   ]
  },
  {
   "cell_type": "code",
   "execution_count": null,
   "metadata": {},
   "outputs": [],
   "source": []
  }
 ],
 "metadata": {
  "interpreter": {
   "hash": "11938c6bc6919ae2720b4d5011047913343b08a43b18698fd82dedb0d4417594"
  },
  "kernelspec": {
   "display_name": "Python 3.9.6 64-bit (system)",
   "language": "python",
   "name": "python3"
  },
  "language_info": {
   "codemirror_mode": {
    "name": "ipython",
    "version": 3
   },
   "file_extension": ".py",
   "mimetype": "text/x-python",
   "name": "python",
   "nbconvert_exporter": "python",
   "pygments_lexer": "ipython3",
   "version": "3.9.6"
  },
  "orig_nbformat": 4
 },
 "nbformat": 4,
 "nbformat_minor": 2
}
